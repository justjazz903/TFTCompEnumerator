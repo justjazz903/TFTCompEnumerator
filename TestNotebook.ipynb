{
 "cells": [
  {
   "cell_type": "code",
   "execution_count": 1,
   "id": "f43ddb87",
   "metadata": {},
   "outputs": [],
   "source": [
    "import os\n",
    "import networkx\n",
    "import pickle\n",
    "from namespace.graph.json_processor import get_data_matrix\n",
    "from namespace.graph.comp_printer import print_comp"
   ]
  },
  {
   "cell_type": "code",
   "execution_count": 2,
   "id": "dd863ee3",
   "metadata": {},
   "outputs": [],
   "source": [
    "with open('./poker_strategy/graph.pickle', 'rb') as f:\n",
    "    G = pickle.load(f)\n",
    "champion_matrix, trait_matrix, _ = get_data_matrix()"
   ]
  },
  {
   "cell_type": "markdown",
   "id": "45a99fb0",
   "metadata": {},
   "source": [
    "The graph `G` is a `networkx.DiGraph` object. Each of its edge points from a lower level comp to a higher level comp. We can both work from high level to low level or low level to high level. Since high level comps are more important for players, let's make a reverse of the graph."
   ]
  },
  {
   "cell_type": "code",
   "execution_count": 3,
   "id": "859f9bf9",
   "metadata": {},
   "outputs": [],
   "source": [
    "G_rev = G.reverse()\n",
    "levels = [5, 6, 7, 8, 9]\n",
    "subgraph_path = './subgraphs/'\n",
    "roots = [node[0] for node in G_rev.nodes(data=True) if node[1]['layer'] == len(levels) - 1]\n",
    "if not os.path.exists(subgraph_path):\n",
    "    os.mkdir(subgraph_path)\n",
    "for index, root in enumerate(roots):\n",
    "    cur_G = networkx.DiGraph()\n",
    "    champ_names, _, _ = print_comp(root, champion_matrix, trait_matrix)\n",
    "    cur_G.add_node(str(champ_names), layer=len(levels) - 1)\n",
    "    descendants = networkx.algorithms.dag.descendants(G_rev, root)\n",
    "    for bit_code in descendants:\n",
    "        champ_names, _, _ = print_comp(bit_code, champion_matrix, trait_matrix)\n",
    "        cur_G.add_node(str(champ_names), layer=levels.index(len(champ_names)))\n",
    "    for i in cur_G.nodes(data=True):\n",
    "        for j in cur_G.nodes(data=True):\n",
    "            if i[1]['layer'] - j[1]['layer'] == 1:\n",
    "                cur_G.add_edge(i[0], j[0])\n",
    "    networkx.write_graphml(cur_G, subgraph_path + f'tansition_{index}.graphml')"
   ]
  },
  {
   "cell_type": "markdown",
   "id": "393f5513",
   "metadata": {},
   "source": [
    "we save each subgraph to the folder `./subgraphs/` in `.graphml` format, each subgraph represent a transition tree, in this case from level 5 to level 9. Use Cytoscape to visualize it."
   ]
  },
  {
   "cell_type": "code",
   "execution_count": null,
   "id": "bf44aedb",
   "metadata": {},
   "outputs": [],
   "source": []
  }
 ],
 "metadata": {
  "kernelspec": {
   "display_name": "Python 3",
   "language": "python",
   "name": "python3"
  },
  "language_info": {
   "codemirror_mode": {
    "name": "ipython",
    "version": 3
   },
   "file_extension": ".py",
   "mimetype": "text/x-python",
   "name": "python",
   "nbconvert_exporter": "python",
   "pygments_lexer": "ipython3",
   "version": "3.9.5"
  }
 },
 "nbformat": 4,
 "nbformat_minor": 5
}
