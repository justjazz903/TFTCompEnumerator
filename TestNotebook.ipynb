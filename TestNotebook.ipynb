{
 "cells": [
  {
   "cell_type": "code",
   "execution_count": 1,
   "id": "6c302cd0",
   "metadata": {},
   "outputs": [],
   "source": [
    "import json\n",
    "from namespace.graph.grader import poker_strategy\n",
    "\n",
    "with open('TFTDataSet6.json', 'r') as f:\n",
    "    d = json.load(f)"
   ]
  },
  {
   "cell_type": "code",
   "execution_count": 3,
   "id": "07ec5d6b",
   "metadata": {},
   "outputs": [
    {
     "name": "stdout",
     "output_type": "stream",
     "text": [
      "level:1,count:1,score:1.3\n",
      "level:1,count:2,score:2.6\n",
      "level:1,count:3,score:3.9000000000000004\n",
      "level:1,count:4,score:5.2\n",
      "level:1,count:5,score:6.5\n",
      "level:1,count:6,score:7.800000000000001\n",
      "level:1,count:7,score:9.1\n",
      "level:1,count:8,score:10.4\n",
      "level:2,count:1,score:1.6900000000000002\n",
      "level:2,count:2,score:3.3800000000000003\n",
      "level:2,count:3,score:5.07\n",
      "level:2,count:4,score:6.760000000000001\n",
      "level:2,count:5,score:8.450000000000001\n",
      "level:2,count:6,score:10.14\n",
      "level:2,count:7,score:11.830000000000002\n",
      "level:2,count:8,score:13.520000000000001\n",
      "level:3,count:1,score:2.197\n",
      "level:3,count:2,score:4.394\n",
      "level:3,count:3,score:6.591\n",
      "level:3,count:4,score:8.788\n",
      "level:3,count:5,score:10.985\n",
      "level:3,count:6,score:13.182\n",
      "level:3,count:7,score:15.379000000000001\n",
      "level:3,count:8,score:17.576\n",
      "level:4,count:1,score:2.8561000000000005\n",
      "level:4,count:2,score:5.712200000000001\n",
      "level:4,count:3,score:8.5683\n",
      "level:4,count:4,score:11.424400000000002\n",
      "level:4,count:5,score:14.280500000000004\n",
      "level:4,count:6,score:17.1366\n",
      "level:4,count:7,score:19.992700000000003\n",
      "level:4,count:8,score:22.848800000000004\n",
      "level:5,count:1,score:3.7129300000000005\n",
      "level:5,count:2,score:7.425860000000001\n",
      "level:5,count:3,score:11.138790000000002\n",
      "level:5,count:4,score:14.851720000000002\n",
      "level:5,count:5,score:18.564650000000004\n",
      "level:5,count:6,score:22.277580000000004\n",
      "level:5,count:7,score:25.990510000000004\n",
      "level:5,count:8,score:29.703440000000004\n",
      "level:6,count:1,score:4.826809000000001\n",
      "level:6,count:2,score:9.653618000000002\n",
      "level:6,count:3,score:14.480427000000002\n",
      "level:6,count:4,score:19.307236000000003\n",
      "level:6,count:5,score:24.134045000000004\n",
      "level:6,count:6,score:28.960854000000005\n",
      "level:6,count:7,score:33.78766300000001\n",
      "level:6,count:8,score:38.614472000000006\n",
      "level:7,count:1,score:6.274851700000002\n",
      "level:7,count:2,score:12.549703400000004\n",
      "level:7,count:3,score:18.824555100000005\n",
      "level:7,count:4,score:25.099406800000008\n",
      "level:7,count:5,score:31.37425850000001\n",
      "level:7,count:6,score:37.64911020000001\n",
      "level:7,count:7,score:43.923961900000016\n",
      "level:7,count:8,score:50.198813600000015\n",
      "level:8,count:1,score:8.157307210000003\n",
      "level:8,count:2,score:16.314614420000005\n",
      "level:8,count:3,score:24.471921630000008\n",
      "level:8,count:4,score:32.62922884000001\n",
      "level:8,count:5,score:40.78653605000001\n",
      "level:8,count:6,score:48.943843260000016\n",
      "level:8,count:7,score:57.10115047000002\n",
      "level:8,count:8,score:65.25845768000002\n"
     ]
    }
   ],
   "source": [
    "base = 1.3\n",
    "\n",
    "for trait_level in range(1, 9):\n",
    "    for trait_count in range(1, 9):\n",
    "        single_score = base ** trait_level\n",
    "        total_score = trait_count * single_score\n",
    "        print(f'level:{trait_level},count:{trait_count},score:{total_score}')"
   ]
  },
  {
   "cell_type": "code",
   "execution_count": null,
   "id": "fea005a4",
   "metadata": {},
   "outputs": [],
   "source": []
  },
  {
   "cell_type": "code",
   "execution_count": null,
   "id": "73b1b298",
   "metadata": {},
   "outputs": [],
   "source": []
  },
  {
   "cell_type": "code",
   "execution_count": null,
   "id": "f87be236",
   "metadata": {},
   "outputs": [],
   "source": []
  }
 ],
 "metadata": {
  "kernelspec": {
   "display_name": "Python 3",
   "language": "python",
   "name": "python3"
  },
  "language_info": {
   "codemirror_mode": {
    "name": "ipython",
    "version": 3
   },
   "file_extension": ".py",
   "mimetype": "text/x-python",
   "name": "python",
   "nbconvert_exporter": "python",
   "pygments_lexer": "ipython3",
   "version": "3.9.5"
  }
 },
 "nbformat": 4,
 "nbformat_minor": 5
}
