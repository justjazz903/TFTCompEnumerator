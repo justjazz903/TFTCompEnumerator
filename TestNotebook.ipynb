{
 "cells": [
  {
   "cell_type": "code",
   "execution_count": 1,
   "id": "6c302cd0",
   "metadata": {},
   "outputs": [],
   "source": [
    "import json\n",
    "\n",
    "with open('TFTDataSet6.json', 'r') as f:\n",
    "    d = json.load(f)"
   ]
  },
  {
   "cell_type": "code",
   "execution_count": 2,
   "id": "ae899a77",
   "metadata": {},
   "outputs": [
    {
     "name": "stdout",
     "output_type": "stream",
     "text": [
      "6 {'name': 'chogath', 'cost': 3, 'traits': ['mutant', 'bruiser', 'colossus']}\n",
      "32 {'name': 'sion', 'cost': 4, 'traits': ['imperial', 'protector', 'colossus']}\n",
      "47 {'name': 'galio', 'cost': 5, 'traits': ['socialite', 'bodyguard', 'colossus']}\n"
     ]
    }
   ],
   "source": [
    "for i, champ in enumerate(d['champions']):\n",
    "    if 'colossus' in champ['traits']:\n",
    "        print(i, champ)\n",
    "#     if champ['cost'] == 5:\n",
    "#         print(champ)"
   ]
  },
  {
   "cell_type": "code",
   "execution_count": 3,
   "id": "07ec5d6b",
   "metadata": {},
   "outputs": [],
   "source": [
    "from namespace.graph.combination_reducer import reduce_combination_set6\n",
    "\n",
    "all_comp_id = list()\n",
    "reduce_combination_set6([i for i in range(58)], 8, [], 3162510, all_comp_id)"
   ]
  },
  {
   "cell_type": "code",
   "execution_count": 4,
   "id": "fea005a4",
   "metadata": {},
   "outputs": [
    {
     "name": "stdout",
     "output_type": "stream",
     "text": [
      "6 1 (0, 1, 2, 3, 4, 5) [6]\n",
      "4 2 (0, 1, 2, 3) [6, 40]\n",
      "4 2 (0, 1, 2, 3) [6, 41]\n",
      "4 2 (0, 1, 2, 3) [6, 42]\n",
      "4 2 (0, 1, 2, 3) [6, 43]\n",
      "4 2 (0, 1, 2, 3) [6, 44]\n",
      "4 2 (0, 1, 2, 3) [6, 45]\n",
      "4 2 (0, 1, 2, 3) [6, 46]\n",
      "4 2 (0, 1, 2, 3) [6, 48]\n",
      "4 2 (0, 1, 2, 3) [6, 49]\n",
      "4 2 (0, 1, 2, 3) [6, 50]\n",
      "4 2 (0, 1, 2, 3) [6, 51]\n",
      "4 2 (0, 1, 2, 3) [6, 52]\n",
      "4 2 (0, 1, 2, 3) [6, 53]\n",
      "4 2 (0, 1, 2, 3) [6, 54]\n",
      "4 2 (0, 1, 2, 3) [6, 55]\n",
      "4 2 (0, 1, 2, 3) [6, 56]\n",
      "4 2 (0, 1, 2, 3) [6, 57]\n",
      "6 1 (0, 1, 2, 3, 4, 5) [32]\n",
      "4 2 (0, 1, 2, 3) [32, 40]\n",
      "4 2 (0, 1, 2, 3) [32, 41]\n",
      "4 2 (0, 1, 2, 3) [32, 42]\n",
      "4 2 (0, 1, 2, 3) [32, 43]\n",
      "4 2 (0, 1, 2, 3) [32, 44]\n",
      "4 2 (0, 1, 2, 3) [32, 45]\n",
      "4 2 (0, 1, 2, 3) [32, 46]\n",
      "4 2 (0, 1, 2, 3) [32, 48]\n",
      "4 2 (0, 1, 2, 3) [32, 49]\n",
      "4 2 (0, 1, 2, 3) [32, 50]\n",
      "4 2 (0, 1, 2, 3) [32, 51]\n",
      "4 2 (0, 1, 2, 3) [32, 52]\n",
      "4 2 (0, 1, 2, 3) [32, 53]\n",
      "4 2 (0, 1, 2, 3) [32, 54]\n",
      "4 2 (0, 1, 2, 3) [32, 55]\n",
      "4 2 (0, 1, 2, 3) [32, 56]\n",
      "4 2 (0, 1, 2, 3) [32, 57]\n",
      "6 1 (0, 1, 2, 3, 4, 5) [47]\n",
      "4 2 (0, 1, 2, 3) [47, 40]\n",
      "4 2 (0, 1, 2, 3) [47, 41]\n",
      "4 2 (0, 1, 2, 3) [47, 42]\n",
      "4 2 (0, 1, 2, 3) [47, 43]\n",
      "4 2 (0, 1, 2, 3) [47, 44]\n",
      "4 2 (0, 1, 2, 3) [47, 45]\n",
      "4 2 (0, 1, 2, 3) [47, 46]\n",
      "4 2 (0, 1, 2, 3) [47, 48]\n",
      "4 2 (0, 1, 2, 3) [47, 49]\n",
      "4 2 (0, 1, 2, 3) [47, 50]\n",
      "4 2 (0, 1, 2, 3) [47, 51]\n",
      "4 2 (0, 1, 2, 3) [47, 52]\n",
      "4 2 (0, 1, 2, 3) [47, 53]\n",
      "4 2 (0, 1, 2, 3) [47, 54]\n",
      "4 2 (0, 1, 2, 3) [47, 55]\n",
      "4 2 (0, 1, 2, 3) [47, 56]\n",
      "4 2 (0, 1, 2, 3) [47, 57]\n",
      "4 2 (0, 1, 2, 3) [6, 32]\n",
      "4 2 (0, 1, 2, 3) [6, 47]\n",
      "4 2 (0, 1, 2, 3) [32, 47]\n",
      "2 3 (0, 1) [6, 32, 47]\n"
     ]
    }
   ],
   "source": [
    "for tpl in all_comp_id:\n",
    "    if 6 in tpl[1] or 32 in tpl[1] or 47 in tpl[1]:\n",
    "        for i, c in enumerate(tpl[0]):\n",
    "            if i > 0:\n",
    "                break\n",
    "            print(len(c), len(tpl[1]), c, tpl[1])"
   ]
  },
  {
   "cell_type": "code",
   "execution_count": 5,
   "id": "73b1b298",
   "metadata": {},
   "outputs": [
    {
     "data": {
      "text/plain": [
       "4"
      ]
     },
     "execution_count": 5,
     "metadata": {},
     "output_type": "execute_result"
    }
   ],
   "source": [
    "8-2*2"
   ]
  },
  {
   "cell_type": "code",
   "execution_count": null,
   "id": "f87be236",
   "metadata": {},
   "outputs": [],
   "source": []
  }
 ],
 "metadata": {
  "kernelspec": {
   "display_name": "Python 3",
   "language": "python",
   "name": "python3"
  },
  "language_info": {
   "codemirror_mode": {
    "name": "ipython",
    "version": 3
   },
   "file_extension": ".py",
   "mimetype": "text/x-python",
   "name": "python",
   "nbconvert_exporter": "python",
   "pygments_lexer": "ipython3",
   "version": "3.9.5"
  }
 },
 "nbformat": 4,
 "nbformat_minor": 5
}
